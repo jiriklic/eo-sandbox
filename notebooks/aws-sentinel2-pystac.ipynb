{
 "cells": [
  {
   "cell_type": "code",
   "execution_count": 1,
   "id": "4d68445d-938f-4db7-81cb-1644b54db694",
   "metadata": {},
   "outputs": [],
   "source": [
    "from pystac_client import Client"
   ]
  },
  {
   "cell_type": "code",
   "execution_count": 2,
   "id": "f6c8a402-a250-4f06-a4cf-b3b65c191150",
   "metadata": {},
   "outputs": [],
   "source": [
    "# catalog = Client.open(\"https://planetarycomputer.microsoft.com/api/stac/v1\")\n",
    "# client = Client.open(\"https://earth-search.aws.element84.com/v0\")\n",
    "client = Client.open(\"https://earth-search.aws.element84.com/v0\")"
   ]
  },
  {
   "cell_type": "code",
   "execution_count": 24,
   "id": "fc0ccbdd-9e48-437e-8b9a-5ed897ab5e19",
   "metadata": {},
   "outputs": [
    {
     "data": {
      "text/plain": [
       "\u001b[0;31mType:\u001b[0m        Client\n",
       "\u001b[0;31mString form:\u001b[0m <Client id=earth-search>\n",
       "\u001b[0;31mFile:\u001b[0m        ~/src/eo-sandbox/.venv/lib/python3.8/site-packages/pystac_client/client.py\n",
       "\u001b[0;31mDocstring:\u001b[0m  \n",
       "A Client for interacting with the root of a STAC Catalog or API\n",
       "\n",
       "Instances of the ``Client`` class inherit from :class:`pystac.Catalog`\n",
       "and provide a convenient way of interacting\n",
       "with STAC Catalogs OR STAC APIs that conform to the `STAC API spec\n",
       "<https://github.com/radiantearth/stac-api-spec>`_.\n",
       "In addition to being a valid\n",
       "`STAC Catalog\n",
       "<https://github.com/radiantearth/stac-spec/blob/master/catalog-spec/catalog-spec.md>`_\n",
       "APIs that have a ``\"conformsTo\"`` indicate that it supports additional\n",
       "functionality on top of a normal STAC Catalog,\n",
       "such as searching items (e.g., /search endpoint).\n"
      ]
     },
     "metadata": {},
     "output_type": "display_data"
    }
   ],
   "source": [
    "client?"
   ]
  },
  {
   "cell_type": "code",
   "execution_count": 25,
   "id": "40ee8a9b-a4da-4d68-a31f-28ac14b1e281",
   "metadata": {},
   "outputs": [
    {
     "data": {
      "text/plain": [
       "['DEFAULT_FILE_NAME',\n",
       " 'STAC_OBJECT_TYPE',\n",
       " '__abstractmethods__',\n",
       " '__annotations__',\n",
       " '__class__',\n",
       " '__delattr__',\n",
       " '__dict__',\n",
       " '__dir__',\n",
       " '__doc__',\n",
       " '__eq__',\n",
       " '__format__',\n",
       " '__ge__',\n",
       " '__getattribute__',\n",
       " '__gt__',\n",
       " '__hash__',\n",
       " '__init__',\n",
       " '__init_subclass__',\n",
       " '__le__',\n",
       " '__lt__',\n",
       " '__module__',\n",
       " '__ne__',\n",
       " '__new__',\n",
       " '__reduce__',\n",
       " '__reduce_ex__',\n",
       " '__repr__',\n",
       " '__setattr__',\n",
       " '__sizeof__',\n",
       " '__slots__',\n",
       " '__str__',\n",
       " '__subclasshook__',\n",
       " '__weakref__',\n",
       " '_abc_impl',\n",
       " '_conforms_to',\n",
       " '_object_links',\n",
       " '_resolved_objects',\n",
       " '_stac_io',\n",
       " '_supports_collections',\n",
       " 'add_child',\n",
       " 'add_children',\n",
       " 'add_item',\n",
       " 'add_items',\n",
       " 'add_link',\n",
       " 'add_links',\n",
       " 'catalog_type',\n",
       " 'clear_children',\n",
       " 'clear_items',\n",
       " 'clear_links',\n",
       " 'clone',\n",
       " 'describe',\n",
       " 'description',\n",
       " 'extra_fields',\n",
       " 'from_dict',\n",
       " 'from_file',\n",
       " 'full_copy',\n",
       " 'generate_subcatalogs',\n",
       " 'get_all_collections',\n",
       " 'get_all_items',\n",
       " 'get_child',\n",
       " 'get_child_links',\n",
       " 'get_children',\n",
       " 'get_collection',\n",
       " 'get_collections',\n",
       " 'get_item',\n",
       " 'get_item_links',\n",
       " 'get_items',\n",
       " 'get_links',\n",
       " 'get_parent',\n",
       " 'get_root',\n",
       " 'get_root_link',\n",
       " 'get_search_link',\n",
       " 'get_self_href',\n",
       " 'get_single_link',\n",
       " 'get_stac_objects',\n",
       " 'id',\n",
       " 'is_relative',\n",
       " 'links',\n",
       " 'make_all_asset_hrefs_absolute',\n",
       " 'make_all_asset_hrefs_relative',\n",
       " 'map_assets',\n",
       " 'map_items',\n",
       " 'matches_object_type',\n",
       " 'normalize_and_save',\n",
       " 'normalize_hrefs',\n",
       " 'open',\n",
       " 'remove_child',\n",
       " 'remove_item',\n",
       " 'remove_links',\n",
       " 'resolve_links',\n",
       " 'save',\n",
       " 'save_object',\n",
       " 'search',\n",
       " 'self_href',\n",
       " 'set_parent',\n",
       " 'set_root',\n",
       " 'set_self_href',\n",
       " 'stac_extensions',\n",
       " 'title',\n",
       " 'to_dict',\n",
       " 'validate',\n",
       " 'validate_all',\n",
       " 'walk']"
      ]
     },
     "execution_count": 25,
     "metadata": {},
     "output_type": "execute_result"
    }
   ],
   "source": [
    "dir(client)"
   ]
  },
  {
   "cell_type": "code",
   "execution_count": 28,
   "id": "6a829902-dc23-4a40-8add-3a95c875f580",
   "metadata": {},
   "outputs": [
    {
     "data": {
      "text/plain": [
       "<STACObjectType.CATALOG: 'Catalog'>"
      ]
     },
     "execution_count": 28,
     "metadata": {},
     "output_type": "execute_result"
    }
   ],
   "source": [
    "client.STAC_OBJECT_TYPE"
   ]
  },
  {
   "cell_type": "code",
   "execution_count": 29,
   "id": "ff40be42-22de-4ede-8344-5446c38ba9ea",
   "metadata": {},
   "outputs": [
    {
     "data": {
      "text/plain": [
       "'catalog.json'"
      ]
     },
     "execution_count": 29,
     "metadata": {},
     "output_type": "execute_result"
    }
   ],
   "source": [
    "client.DEFAULT_FILE_NAME"
   ]
  },
  {
   "cell_type": "code",
   "execution_count": 32,
   "id": "5cfb96bd-3bf6-4238-849d-56a7b417854c",
   "metadata": {},
   "outputs": [
    {
     "data": {
      "text/plain": [
       "<CatalogType.ABSOLUTE_PUBLISHED: 'ABSOLUTE_PUBLISHED'>"
      ]
     },
     "execution_count": 32,
     "metadata": {},
     "output_type": "execute_result"
    }
   ],
   "source": [
    "client.catalog_type"
   ]
  },
  {
   "cell_type": "code",
   "execution_count": 33,
   "id": "6c8d2b93-9d6f-4252-9f05-fb1d3302bcf2",
   "metadata": {},
   "outputs": [
    {
     "data": {
      "text/plain": [
       "'A STAC API of AWS Public Datasets powered by stac-server'"
      ]
     },
     "execution_count": 33,
     "metadata": {},
     "output_type": "execute_result"
    }
   ],
   "source": [
    "client.description"
   ]
  },
  {
   "cell_type": "code",
   "execution_count": 34,
   "id": "c42ddcec-fcda-481a-89a5-e501832e44f1",
   "metadata": {},
   "outputs": [
    {
     "data": {
      "text/plain": [
       "\u001b[0;31mSignature:\u001b[0m \u001b[0mclient\u001b[0m\u001b[0;34m.\u001b[0m\u001b[0mget_collections\u001b[0m\u001b[0;34m(\u001b[0m\u001b[0;34m)\u001b[0m \u001b[0;34m->\u001b[0m \u001b[0mIterator\u001b[0m\u001b[0;34m[\u001b[0m\u001b[0mpystac\u001b[0m\u001b[0;34m.\u001b[0m\u001b[0mcollection\u001b[0m\u001b[0;34m.\u001b[0m\u001b[0mCollection\u001b[0m\u001b[0;34m]\u001b[0m\u001b[0;34m\u001b[0m\u001b[0;34m\u001b[0m\u001b[0m\n",
       "\u001b[0;31mDocstring:\u001b[0m\n",
       "Get Collections in this Catalog\n",
       "\n",
       "    Gets the collections from the /collections endpoint if supported,\n",
       "    otherwise fall back to Catalog behavior of following child links\n",
       "\n",
       "Return:\n",
       "    Iterator[Collection]: Iterator over Collections in Catalog/API\n",
       "\u001b[0;31mFile:\u001b[0m      ~/src/eo-sandbox/.venv/lib/python3.8/site-packages/pystac_client/client.py\n",
       "\u001b[0;31mType:\u001b[0m      method\n"
      ]
     },
     "metadata": {},
     "output_type": "display_data"
    }
   ],
   "source": [
    "client.get_collections?"
   ]
  },
  {
   "cell_type": "code",
   "execution_count": 35,
   "id": "5784fc57-2778-4dea-9621-af962fbb2c0e",
   "metadata": {},
   "outputs": [
    {
     "data": {
      "text/plain": [
       "<generator object Client.get_collections at 0x7fdce4703350>"
      ]
     },
     "execution_count": 35,
     "metadata": {},
     "output_type": "execute_result"
    }
   ],
   "source": [
    "client.get_collections()"
   ]
  },
  {
   "cell_type": "code",
   "execution_count": 36,
   "id": "087b7902-cb01-4667-bcbb-1604ed265801",
   "metadata": {},
   "outputs": [
    {
     "data": {
      "text/plain": [
       "[<CollectionClient id=sentinel-s2-l2a>,\n",
       " <CollectionClient id=sentinel-s2-l1c>,\n",
       " <CollectionClient id=sentinel-s2-l2a-cogs>,\n",
       " <CollectionClient id=landsat-8-l1-c1>]"
      ]
     },
     "execution_count": 36,
     "metadata": {},
     "output_type": "execute_result"
    }
   ],
   "source": [
    "list(client.get_collections())"
   ]
  },
  {
   "cell_type": "code",
   "execution_count": 3,
   "id": "7072f13f-3643-48a5-856b-fd879b6361fe",
   "metadata": {},
   "outputs": [
    {
     "data": {
      "text/plain": [
       "{'type': 'Polygon',\n",
       " 'coordinates': [[[-3.552, 59.419],\n",
       "   [-2.277, 59.419],\n",
       "   [-2.277, 58.699],\n",
       "   [-3.552, 58.699],\n",
       "   [-3.552, 59.419]]]}"
      ]
     },
     "execution_count": 3,
     "metadata": {},
     "output_type": "execute_result"
    }
   ],
   "source": [
    "orkney_boundary = {\n",
    "    \"type\": \"Polygon\",\n",
    "    \"coordinates\": [\n",
    "        [\n",
    "            [-3.552, 59.419],\n",
    "            [-2.277, 59.419],\n",
    "            [-2.277, 58.699],\n",
    "            [-3.552, 58.699],\n",
    "            [-3.552, 59.419],\n",
    "        ]\n",
    "    ],\n",
    "}\n",
    "\n",
    "orkney_boundary"
   ]
  },
  {
   "cell_type": "code",
   "execution_count": 4,
   "id": "814ed8cf-8868-452c-8ab3-2be8dc0ae396",
   "metadata": {},
   "outputs": [],
   "source": [
    "my_search = client.search(\n",
    "    max_items=10,\n",
    "    collections=['sentinel-s2-l2a-cogs'],\n",
    "    # bbox=[-72.5,40.5,-72,41],\n",
    "    # datetime=\"2017-06-10/2017-06-28\"\n",
    "    intersects=orkney_boundary,\n",
    "    datetime=\"2022-06/2022-07\"\n",
    ")"
   ]
  },
  {
   "cell_type": "code",
   "execution_count": 5,
   "id": "c7a38b3a-d344-496e-a9f8-755a4f5dbb3b",
   "metadata": {},
   "outputs": [
    {
     "name": "stdout",
     "output_type": "stream",
     "text": [
      "44 items found\n"
     ]
    }
   ],
   "source": [
    "print(f\"{my_search.matched()} items found\")"
   ]
  },
  {
   "cell_type": "code",
   "execution_count": 6,
   "id": "26e372bc-9b9d-4c21-9d90-6a4349c13972",
   "metadata": {},
   "outputs": [
    {
     "name": "stdout",
     "output_type": "stream",
     "text": [
      "S2A_30VVL_20220724_0_L2A\n",
      "S2A_30VWL_20220724_0_L2A\n",
      "S2A_30VVL_20220721_0_L2A\n",
      "S2A_30VWL_20220721_0_L2A\n",
      "S2B_30VVL_20220719_0_L2A\n",
      "S2B_30VWL_20220719_0_L2A\n",
      "S2B_30VVL_20220716_0_L2A\n",
      "S2B_30VWL_20220716_0_L2A\n",
      "S2A_30VVL_20220714_0_L2A\n",
      "S2A_30VWL_20220714_0_L2A\n"
     ]
    }
   ],
   "source": [
    "for item in my_search.items():\n",
    "    print(item.id)"
   ]
  },
  {
   "cell_type": "code",
   "execution_count": 7,
   "id": "91c9bd9f-315c-4447-a720-f051562d0cb4",
   "metadata": {},
   "outputs": [
    {
     "name": "stdout",
     "output_type": "stream",
     "text": [
      "<class 'pystac_client.item_search.ItemSearch'>\n"
     ]
    },
    {
     "data": {
      "text/plain": [
       "['__class__',\n",
       " '__delattr__',\n",
       " '__dict__',\n",
       " '__dir__',\n",
       " '__doc__',\n",
       " '__eq__',\n",
       " '__format__',\n",
       " '__ge__',\n",
       " '__getattribute__',\n",
       " '__gt__',\n",
       " '__hash__',\n",
       " '__init__',\n",
       " '__init_subclass__',\n",
       " '__le__',\n",
       " '__lt__',\n",
       " '__module__',\n",
       " '__ne__',\n",
       " '__new__',\n",
       " '__reduce__',\n",
       " '__reduce_ex__',\n",
       " '__repr__',\n",
       " '__setattr__',\n",
       " '__sizeof__',\n",
       " '__str__',\n",
       " '__subclasshook__',\n",
       " '__weakref__',\n",
       " '_assert_conforms_to',\n",
       " '_fields_dict_to_str',\n",
       " '_fields_to_dict',\n",
       " '_format_bbox',\n",
       " '_format_collections',\n",
       " '_format_datetime',\n",
       " '_format_fields',\n",
       " '_format_filter',\n",
       " '_format_filter_lang',\n",
       " '_format_ids',\n",
       " '_format_intersects',\n",
       " '_format_query',\n",
       " '_format_sortby',\n",
       " '_max_items',\n",
       " '_parameters',\n",
       " '_sortby_dict_to_str',\n",
       " '_sortby_part_to_dict',\n",
       " '_stac_io',\n",
       " '_to_isoformat_range',\n",
       " '_to_utc_isoformat',\n",
       " 'client',\n",
       " 'get_all_items',\n",
       " 'get_all_items_as_dict',\n",
       " 'get_item_collections',\n",
       " 'get_items',\n",
       " 'get_parameters',\n",
       " 'item_collections',\n",
       " 'items',\n",
       " 'items_as_dicts',\n",
       " 'matched',\n",
       " 'method',\n",
       " 'url']"
      ]
     },
     "execution_count": 7,
     "metadata": {},
     "output_type": "execute_result"
    }
   ],
   "source": [
    "print(type(my_search))\n",
    "dir(my_search)"
   ]
  },
  {
   "cell_type": "code",
   "execution_count": 8,
   "id": "5b11f9ac-8155-4aae-b7d9-02dc947481ab",
   "metadata": {},
   "outputs": [],
   "source": [
    "items_dict = my_search.get_all_items_as_dict()"
   ]
  },
  {
   "cell_type": "code",
   "execution_count": 9,
   "id": "eed376e7-4643-4cd4-807d-db7be2114ee1",
   "metadata": {},
   "outputs": [
    {
     "data": {
      "text/plain": [
       "<generator object ItemSearch.items at 0x7fdce53d2b30>"
      ]
     },
     "execution_count": 9,
     "metadata": {},
     "output_type": "execute_result"
    }
   ],
   "source": [
    "items = my_search.items()\n",
    "items"
   ]
  },
  {
   "cell_type": "code",
   "execution_count": 10,
   "id": "0ca4f6b4-9e1f-485e-9e2c-89e8f2bc0fa6",
   "metadata": {},
   "outputs": [],
   "source": [
    "item = next(items)"
   ]
  },
  {
   "cell_type": "code",
   "execution_count": 11,
   "id": "4a1d9a13-6229-438c-84a2-45cc590dbaae",
   "metadata": {},
   "outputs": [
    {
     "data": {
      "text/plain": [
       "datetime.datetime(2022, 7, 24, 11, 45, 4, tzinfo=tzutc())"
      ]
     },
     "execution_count": 11,
     "metadata": {},
     "output_type": "execute_result"
    }
   ],
   "source": [
    "item.datetime"
   ]
  },
  {
   "cell_type": "code",
   "execution_count": 12,
   "id": "870af372-4be4-4b3e-b71b-80bd5cd7933f",
   "metadata": {},
   "outputs": [
    {
     "data": {
      "text/plain": [
       "{'type': 'Polygon',\n",
       " 'coordinates': [[[-4.718545724068897, 58.54079471243833],\n",
       "   [-4.768453942498379, 59.52639001577173],\n",
       "   [-2.8274365450784664, 59.538226395172046],\n",
       "   [-2.832309460973129, 58.55218062531844],\n",
       "   [-4.718545724068897, 58.54079471243833]]]}"
      ]
     },
     "execution_count": 12,
     "metadata": {},
     "output_type": "execute_result"
    }
   ],
   "source": [
    "item.geometry"
   ]
  },
  {
   "cell_type": "code",
   "execution_count": 13,
   "id": "647657e7-dc68-4c68-8fa0-2f324499dc33",
   "metadata": {},
   "outputs": [
    {
     "data": {
      "text/plain": [
       "'S2A_30VVL_20220724_0_L2A'"
      ]
     },
     "execution_count": 13,
     "metadata": {},
     "output_type": "execute_result"
    }
   ],
   "source": [
    "item.id"
   ]
  },
  {
   "cell_type": "code",
   "execution_count": 14,
   "id": "e2b0ae5f-759e-4dea-b26c-70428f8ff78c",
   "metadata": {},
   "outputs": [
    {
     "data": {
      "text/plain": [
       "{'datetime': '2022-07-24T11:45:04Z',\n",
       " 'platform': 'sentinel-2a',\n",
       " 'constellation': 'sentinel-2',\n",
       " 'instruments': ['msi'],\n",
       " 'gsd': 10,\n",
       " 'view:off_nadir': 0,\n",
       " 'proj:epsg': 32630,\n",
       " 'sentinel:utm_zone': 30,\n",
       " 'sentinel:latitude_band': 'V',\n",
       " 'sentinel:grid_square': 'VL',\n",
       " 'sentinel:sequence': '0',\n",
       " 'sentinel:product_id': 'S2A_MSIL2A_20220724T114401_N0400_R123_T30VVL_20220724T170255',\n",
       " 'sentinel:data_coverage': 100,\n",
       " 'eo:cloud_cover': 84.86,\n",
       " 'sentinel:valid_cloud_cover': True,\n",
       " 'sentinel:processing_baseline': '04.00',\n",
       " 'sentinel:boa_offset_applied': True,\n",
       " 'created': '2022-07-24T18:57:59.796Z',\n",
       " 'updated': '2022-07-24T18:57:59.796Z'}"
      ]
     },
     "execution_count": 14,
     "metadata": {},
     "output_type": "execute_result"
    }
   ],
   "source": [
    "item.properties"
   ]
  },
  {
   "cell_type": "code",
   "execution_count": 15,
   "id": "51cf66fd-a9a3-4665-bb82-b53e07419b5e",
   "metadata": {},
   "outputs": [
    {
     "data": {
      "text/plain": [
       "[<Link rel=self target=https://earth-search.aws.element84.com/v0/collections/sentinel-s2-l2a-cogs/items/S2A_30VVL_20220724_0_L2A>,\n",
       " <Link rel=canonical target=https://sentinel-cogs.s3.us-west-2.amazonaws.com/sentinel-s2-l2a-cogs/30/V/VL/2022/7/S2A_30VVL_20220724_0_L2A/S2A_30VVL_20220724_0_L2A.json>,\n",
       " <Link rel=via-cirrus target=https://cirrus-earth-search.aws.element84.com/v0/catid/sentinel-s2-l2a-aws/workflow-publish-sentinel/tiles-30-V-VL-2022-7-24-0>,\n",
       " <Link rel=derived_from target=https://cirrus-v0-data-1qm7gekzjucbq.s3.us-west-2.amazonaws.com/sentinel-s2-l2a/30/V/VL/2022/7/S2A_30VVL_20220724_0_L2A/S2A_30VVL_20220724_0_L2A.json>,\n",
       " <Link rel=via-cirrus target=https://cirrus-earth-search.aws.element84.com/v0/catid/sentinel-s2-l2a/workflow-cog-archive/S2A_30VVL_20220724_0_L2A>,\n",
       " <Link rel=parent target=https://earth-search.aws.element84.com/v0/collections/sentinel-s2-l2a-cogs>,\n",
       " <Link rel=collection target=https://earth-search.aws.element84.com/v0/collections/sentinel-s2-l2a-cogs>,\n",
       " <Link rel=root target=<Client id=earth-search>>]"
      ]
     },
     "execution_count": 15,
     "metadata": {},
     "output_type": "execute_result"
    }
   ],
   "source": [
    "item.links"
   ]
  },
  {
   "cell_type": "code",
   "execution_count": 16,
   "id": "f858d4a8-e980-4db7-8302-d7eb2f5146ae",
   "metadata": {},
   "outputs": [
    {
     "data": {
      "text/plain": [
       "\u001b[0;31mType:\u001b[0m        Item\n",
       "\u001b[0;31mString form:\u001b[0m <Item id=S2A_30VVL_20220724_0_L2A>\n",
       "\u001b[0;31mFile:\u001b[0m        ~/src/eo-sandbox/.venv/lib/python3.8/site-packages/pystac/item.py\n",
       "\u001b[0;31mDocstring:\u001b[0m  \n",
       "An Item is the core granular entity in a STAC, containing the core metadata\n",
       "that enables any client to search or crawl online catalogs of spatial 'assets' -\n",
       "satellite imagery, derived data, DEM's, etc.\n",
       "\n",
       "Args:\n",
       "    id : Provider identifier. Must be unique within the STAC.\n",
       "    geometry : Defines the full footprint of the asset represented by this\n",
       "        item, formatted according to\n",
       "        `RFC 7946, section 3.1 (GeoJSON) <https://tools.ietf.org/html/rfc7946>`_.\n",
       "    bbox :  Bounding Box of the asset represented by this item\n",
       "        using either 2D or 3D geometries. The length of the array must be 2*n\n",
       "        where n is the number of dimensions. Could also be None in the case of a\n",
       "        null geometry.\n",
       "    datetime : Datetime associated with this item. If None,\n",
       "        a start_datetime and end_datetime must be supplied in the properties.\n",
       "    properties : A dictionary of additional metadata for the item.\n",
       "    stac_extensions : Optional list of extensions the Item implements.\n",
       "    href : Optional HREF for this item, which be set as the item's\n",
       "        self link's HREF.\n",
       "    collection : The Collection or Collection ID that this item\n",
       "        belongs to.\n",
       "    extra_fields : Extra fields that are part of the top-level JSON\n",
       "        properties of the Item.\n"
      ]
     },
     "metadata": {},
     "output_type": "display_data"
    }
   ],
   "source": [
    "item?"
   ]
  },
  {
   "cell_type": "code",
   "execution_count": 17,
   "id": "a54d6078-14ec-4266-9dbc-cadeebf9d7a5",
   "metadata": {},
   "outputs": [
    {
     "data": {
      "text/plain": [
       "'https://earth-search.aws.element84.com/v0/collections/sentinel-s2-l2a-cogs/items/S2A_30VVL_20220724_0_L2A'"
      ]
     },
     "execution_count": 17,
     "metadata": {},
     "output_type": "execute_result"
    }
   ],
   "source": [
    "item.get_self_href()"
   ]
  },
  {
   "cell_type": "code",
   "execution_count": 18,
   "id": "94d15bf0-d6c3-4860-b253-e02eb4583d18",
   "metadata": {},
   "outputs": [
    {
     "name": "stdout",
     "output_type": "stream",
     "text": [
      "<class 'dict'>\n"
     ]
    },
    {
     "data": {
      "text/plain": [
       "{'thumbnail': <Asset href=https://roda.sentinel-hub.com/sentinel-s2-l1c/tiles/30/V/VL/2022/7/24/0/preview.jpg>,\n",
       " 'overview': <Asset href=https://sentinel-cogs.s3.us-west-2.amazonaws.com/sentinel-s2-l2a-cogs/30/V/VL/2022/7/S2A_30VVL_20220724_0_L2A/L2A_PVI.tif>,\n",
       " 'info': <Asset href=https://roda.sentinel-hub.com/sentinel-s2-l2a/tiles/30/V/VL/2022/7/24/0/tileInfo.json>,\n",
       " 'metadata': <Asset href=https://roda.sentinel-hub.com/sentinel-s2-l2a/tiles/30/V/VL/2022/7/24/0/metadata.xml>,\n",
       " 'visual': <Asset href=https://sentinel-cogs.s3.us-west-2.amazonaws.com/sentinel-s2-l2a-cogs/30/V/VL/2022/7/S2A_30VVL_20220724_0_L2A/TCI.tif>,\n",
       " 'B01': <Asset href=https://sentinel-cogs.s3.us-west-2.amazonaws.com/sentinel-s2-l2a-cogs/30/V/VL/2022/7/S2A_30VVL_20220724_0_L2A/B01.tif>,\n",
       " 'B02': <Asset href=https://sentinel-cogs.s3.us-west-2.amazonaws.com/sentinel-s2-l2a-cogs/30/V/VL/2022/7/S2A_30VVL_20220724_0_L2A/B02.tif>,\n",
       " 'B03': <Asset href=https://sentinel-cogs.s3.us-west-2.amazonaws.com/sentinel-s2-l2a-cogs/30/V/VL/2022/7/S2A_30VVL_20220724_0_L2A/B03.tif>,\n",
       " 'B04': <Asset href=https://sentinel-cogs.s3.us-west-2.amazonaws.com/sentinel-s2-l2a-cogs/30/V/VL/2022/7/S2A_30VVL_20220724_0_L2A/B04.tif>,\n",
       " 'B05': <Asset href=https://sentinel-cogs.s3.us-west-2.amazonaws.com/sentinel-s2-l2a-cogs/30/V/VL/2022/7/S2A_30VVL_20220724_0_L2A/B05.tif>,\n",
       " 'B06': <Asset href=https://sentinel-cogs.s3.us-west-2.amazonaws.com/sentinel-s2-l2a-cogs/30/V/VL/2022/7/S2A_30VVL_20220724_0_L2A/B06.tif>,\n",
       " 'B07': <Asset href=https://sentinel-cogs.s3.us-west-2.amazonaws.com/sentinel-s2-l2a-cogs/30/V/VL/2022/7/S2A_30VVL_20220724_0_L2A/B07.tif>,\n",
       " 'B08': <Asset href=https://sentinel-cogs.s3.us-west-2.amazonaws.com/sentinel-s2-l2a-cogs/30/V/VL/2022/7/S2A_30VVL_20220724_0_L2A/B08.tif>,\n",
       " 'B8A': <Asset href=https://sentinel-cogs.s3.us-west-2.amazonaws.com/sentinel-s2-l2a-cogs/30/V/VL/2022/7/S2A_30VVL_20220724_0_L2A/B8A.tif>,\n",
       " 'B09': <Asset href=https://sentinel-cogs.s3.us-west-2.amazonaws.com/sentinel-s2-l2a-cogs/30/V/VL/2022/7/S2A_30VVL_20220724_0_L2A/B09.tif>,\n",
       " 'B11': <Asset href=https://sentinel-cogs.s3.us-west-2.amazonaws.com/sentinel-s2-l2a-cogs/30/V/VL/2022/7/S2A_30VVL_20220724_0_L2A/B11.tif>,\n",
       " 'B12': <Asset href=https://sentinel-cogs.s3.us-west-2.amazonaws.com/sentinel-s2-l2a-cogs/30/V/VL/2022/7/S2A_30VVL_20220724_0_L2A/B12.tif>,\n",
       " 'AOT': <Asset href=https://sentinel-cogs.s3.us-west-2.amazonaws.com/sentinel-s2-l2a-cogs/30/V/VL/2022/7/S2A_30VVL_20220724_0_L2A/AOT.tif>,\n",
       " 'WVP': <Asset href=https://sentinel-cogs.s3.us-west-2.amazonaws.com/sentinel-s2-l2a-cogs/30/V/VL/2022/7/S2A_30VVL_20220724_0_L2A/WVP.tif>,\n",
       " 'SCL': <Asset href=https://sentinel-cogs.s3.us-west-2.amazonaws.com/sentinel-s2-l2a-cogs/30/V/VL/2022/7/S2A_30VVL_20220724_0_L2A/SCL.tif>}"
      ]
     },
     "execution_count": 18,
     "metadata": {},
     "output_type": "execute_result"
    }
   ],
   "source": [
    "assets = item.get_assets()\n",
    "\n",
    "print(type(assets))\n",
    "assets"
   ]
  },
  {
   "cell_type": "code",
   "execution_count": 21,
   "id": "6fa7de19-d1d5-48a5-97f1-456c36b94049",
   "metadata": {},
   "outputs": [
    {
     "name": "stdout",
     "output_type": "stream",
     "text": [
      "<class 'pystac.asset.Asset'>\n"
     ]
    },
    {
     "data": {
      "text/plain": [
       "'https://sentinel-cogs.s3.us-west-2.amazonaws.com/sentinel-s2-l2a-cogs/30/V/VL/2022/7/S2A_30VVL_20220724_0_L2A/B01.tif'"
      ]
     },
     "execution_count": 21,
     "metadata": {},
     "output_type": "execute_result"
    }
   ],
   "source": [
    "print(type(assets[\"B01\"]))\n",
    "assets[\"B01\"].href"
   ]
  },
  {
   "cell_type": "code",
   "execution_count": 22,
   "id": "020e57bc-5270-43ce-b686-b1356bd3441c",
   "metadata": {},
   "outputs": [
    {
     "data": {
      "text/plain": [
       "['__annotations__',\n",
       " '__class__',\n",
       " '__delattr__',\n",
       " '__dict__',\n",
       " '__dir__',\n",
       " '__doc__',\n",
       " '__eq__',\n",
       " '__format__',\n",
       " '__ge__',\n",
       " '__getattribute__',\n",
       " '__gt__',\n",
       " '__hash__',\n",
       " '__init__',\n",
       " '__init_subclass__',\n",
       " '__le__',\n",
       " '__lt__',\n",
       " '__module__',\n",
       " '__ne__',\n",
       " '__new__',\n",
       " '__reduce__',\n",
       " '__reduce_ex__',\n",
       " '__repr__',\n",
       " '__setattr__',\n",
       " '__sizeof__',\n",
       " '__str__',\n",
       " '__subclasshook__',\n",
       " '__weakref__',\n",
       " 'clone',\n",
       " 'common_metadata',\n",
       " 'description',\n",
       " 'extra_fields',\n",
       " 'from_dict',\n",
       " 'get_absolute_href',\n",
       " 'href',\n",
       " 'media_type',\n",
       " 'owner',\n",
       " 'roles',\n",
       " 'set_owner',\n",
       " 'title',\n",
       " 'to_dict']"
      ]
     },
     "execution_count": 22,
     "metadata": {},
     "output_type": "execute_result"
    }
   ],
   "source": [
    "dir(assets[\"B01\"])"
   ]
  },
  {
   "cell_type": "code",
   "execution_count": 22,
   "id": "0ed1a624-4641-44d8-8e32-1530cf406842",
   "metadata": {},
   "outputs": [
    {
     "data": {
      "text/plain": [
       "['STAC_OBJECT_TYPE',\n",
       " '__abstractmethods__',\n",
       " '__annotations__',\n",
       " '__class__',\n",
       " '__delattr__',\n",
       " '__dict__',\n",
       " '__dir__',\n",
       " '__doc__',\n",
       " '__eq__',\n",
       " '__format__',\n",
       " '__ge__',\n",
       " '__getattribute__',\n",
       " '__gt__',\n",
       " '__hash__',\n",
       " '__init__',\n",
       " '__init_subclass__',\n",
       " '__le__',\n",
       " '__lt__',\n",
       " '__module__',\n",
       " '__ne__',\n",
       " '__new__',\n",
       " '__reduce__',\n",
       " '__reduce_ex__',\n",
       " '__repr__',\n",
       " '__setattr__',\n",
       " '__sizeof__',\n",
       " '__slots__',\n",
       " '__str__',\n",
       " '__subclasshook__',\n",
       " '__weakref__',\n",
       " '_abc_impl',\n",
       " '_object_links',\n",
       " 'add_asset',\n",
       " 'add_link',\n",
       " 'add_links',\n",
       " 'assets',\n",
       " 'bbox',\n",
       " 'clear_links',\n",
       " 'clone',\n",
       " 'collection_id',\n",
       " 'common_metadata',\n",
       " 'datetime',\n",
       " 'extra_fields',\n",
       " 'from_dict',\n",
       " 'from_file',\n",
       " 'full_copy',\n",
       " 'geometry',\n",
       " 'get_assets',\n",
       " 'get_collection',\n",
       " 'get_datetime',\n",
       " 'get_links',\n",
       " 'get_parent',\n",
       " 'get_root',\n",
       " 'get_root_link',\n",
       " 'get_self_href',\n",
       " 'get_single_link',\n",
       " 'get_stac_objects',\n",
       " 'id',\n",
       " 'links',\n",
       " 'make_asset_hrefs_absolute',\n",
       " 'make_asset_hrefs_relative',\n",
       " 'matches_object_type',\n",
       " 'properties',\n",
       " 'remove_links',\n",
       " 'resolve_links',\n",
       " 'save_object',\n",
       " 'self_href',\n",
       " 'set_collection',\n",
       " 'set_datetime',\n",
       " 'set_parent',\n",
       " 'set_root',\n",
       " 'set_self_href',\n",
       " 'stac_extensions',\n",
       " 'to_dict',\n",
       " 'validate']"
      ]
     },
     "execution_count": 22,
     "metadata": {},
     "output_type": "execute_result"
    }
   ],
   "source": [
    "dir(item)"
   ]
  },
  {
   "cell_type": "code",
   "execution_count": 23,
   "id": "ca9645c7-e78f-45b8-8c9b-838022c46a75",
   "metadata": {},
   "outputs": [],
   "source": [
    "import boto3"
   ]
  },
  {
   "cell_type": "code",
   "execution_count": 24,
   "id": "20c432e2-1495-477f-9a36-042dbd4d88d4",
   "metadata": {},
   "outputs": [],
   "source": [
    "from boto3.s3.transfer import S3Transfer"
   ]
  },
  {
   "cell_type": "code",
   "execution_count": 25,
   "id": "75dd4fbd-2985-4357-a1b3-f4c81f3aaa09",
   "metadata": {},
   "outputs": [
    {
     "data": {
      "text/plain": [
       "['ChecksumMode',\n",
       " 'VersionId',\n",
       " 'SSECustomerAlgorithm',\n",
       " 'SSECustomerKey',\n",
       " 'SSECustomerKeyMD5',\n",
       " 'RequestPayer',\n",
       " 'ExpectedBucketOwner']"
      ]
     },
     "execution_count": 25,
     "metadata": {},
     "output_type": "execute_result"
    }
   ],
   "source": [
    "S3Transfer.ALLOWED_DOWNLOAD_ARGS"
   ]
  },
  {
   "cell_type": "code",
   "execution_count": 26,
   "id": "9ded5762-0aff-4045-9487-f9c97a2afa00",
   "metadata": {},
   "outputs": [],
   "source": [
    "s3_client = boto3.client(\"s3\")"
   ]
  },
  {
   "cell_type": "code",
   "execution_count": 27,
   "id": "b66043ba-0300-4978-9a1a-a8642a1a77eb",
   "metadata": {},
   "outputs": [],
   "source": [
    "s3 = boto3.resource(\"s3\")"
   ]
  },
  {
   "cell_type": "code",
   "execution_count": 28,
   "id": "041bd589-ee03-46cf-81f9-bb5f89764fa9",
   "metadata": {},
   "outputs": [
    {
     "data": {
      "text/plain": [
       "s3.Bucket(name='sentinel-s2-l2a')"
      ]
     },
     "execution_count": 28,
     "metadata": {},
     "output_type": "execute_result"
    }
   ],
   "source": [
    "bucket = s3.Bucket(\"sentinel-s2-l2a\")\n",
    "bucket"
   ]
  },
  {
   "cell_type": "code",
   "execution_count": 29,
   "id": "1c29288b-4f03-49f0-a2c5-4b8541df3901",
   "metadata": {},
   "outputs": [
    {
     "data": {
      "text/plain": [
       "['Acl',\n",
       " 'Cors',\n",
       " 'Lifecycle',\n",
       " 'LifecycleConfiguration',\n",
       " 'Logging',\n",
       " 'Notification',\n",
       " 'Object',\n",
       " 'Policy',\n",
       " 'RequestPayment',\n",
       " 'Tagging',\n",
       " 'Versioning',\n",
       " 'Website',\n",
       " '__class__',\n",
       " '__delattr__',\n",
       " '__dict__',\n",
       " '__dir__',\n",
       " '__doc__',\n",
       " '__eq__',\n",
       " '__format__',\n",
       " '__ge__',\n",
       " '__getattribute__',\n",
       " '__gt__',\n",
       " '__hash__',\n",
       " '__init__',\n",
       " '__init_subclass__',\n",
       " '__le__',\n",
       " '__lt__',\n",
       " '__module__',\n",
       " '__ne__',\n",
       " '__new__',\n",
       " '__reduce__',\n",
       " '__reduce_ex__',\n",
       " '__repr__',\n",
       " '__setattr__',\n",
       " '__sizeof__',\n",
       " '__str__',\n",
       " '__subclasshook__',\n",
       " '__weakref__',\n",
       " '_name',\n",
       " 'copy',\n",
       " 'create',\n",
       " 'creation_date',\n",
       " 'delete',\n",
       " 'delete_objects',\n",
       " 'download_file',\n",
       " 'download_fileobj',\n",
       " 'get_available_subresources',\n",
       " 'load',\n",
       " 'meta',\n",
       " 'multipart_uploads',\n",
       " 'name',\n",
       " 'object_versions',\n",
       " 'objects',\n",
       " 'put_object',\n",
       " 'upload_file',\n",
       " 'upload_fileobj',\n",
       " 'wait_until_exists',\n",
       " 'wait_until_not_exists']"
      ]
     },
     "execution_count": 29,
     "metadata": {},
     "output_type": "execute_result"
    }
   ],
   "source": [
    "dir(bucket)"
   ]
  },
  {
   "cell_type": "code",
   "execution_count": 30,
   "id": "f983cbe2-cf83-46d9-912c-69e1c1c511d0",
   "metadata": {},
   "outputs": [],
   "source": [
    "object_summary_iterator = bucket.objects.filter(\n",
    "    Delimiter='/',\n",
    "    # EncodingType='url',\n",
    "    # Marker='string',\n",
    "    MaxKeys=10,\n",
    "    # Prefix='string',\n",
    "    RequestPayer='requester',\n",
    "    # ExpectedBucketOwner='string'\n",
    ")"
   ]
  },
  {
   "cell_type": "code",
   "execution_count": 31,
   "id": "1deeb687-c84c-44b1-9582-7a3b47ea52c3",
   "metadata": {},
   "outputs": [
    {
     "data": {
      "text/plain": [
       "[s3.ObjectSummary(bucket_name='sentinel-s2-l2a', key='index.html'),\n",
       " s3.ObjectSummary(bucket_name='sentinel-s2-l2a', key='jquery-2.1.4.min.js'),\n",
       " s3.ObjectSummary(bucket_name='sentinel-s2-l2a', key='readme.html'),\n",
       " s3.ObjectSummary(bucket_name='sentinel-s2-l2a', key='style.css'),\n",
       " s3.ObjectSummary(bucket_name='sentinel-s2-l2a', key='test')]"
      ]
     },
     "execution_count": 31,
     "metadata": {},
     "output_type": "execute_result"
    }
   ],
   "source": [
    "list(object_summary_iterator)"
   ]
  },
  {
   "cell_type": "code",
   "execution_count": 32,
   "id": "87070735-6256-4d8d-b06d-2a012a79b694",
   "metadata": {},
   "outputs": [
    {
     "ename": "ClientError",
     "evalue": "An error occurred (403) when calling the HeadObject operation: Forbidden",
     "output_type": "error",
     "traceback": [
      "\u001b[0;31m---------------------------------------------------------------------------\u001b[0m",
      "\u001b[0;31mClientError\u001b[0m                               Traceback (most recent call last)",
      "Input \u001b[0;32mIn [32]\u001b[0m, in \u001b[0;36m<cell line: 1>\u001b[0;34m()\u001b[0m\n\u001b[0;32m----> 1\u001b[0m \u001b[43ms3\u001b[49m\u001b[38;5;241;43m.\u001b[39;49m\u001b[43mBucket\u001b[49m\u001b[43m(\u001b[49m\u001b[38;5;124;43m\"\u001b[39;49m\u001b[38;5;124;43msentinel-s2-l2a\u001b[39;49m\u001b[38;5;124;43m\"\u001b[39;49m\u001b[43m)\u001b[49m\u001b[38;5;241;43m.\u001b[39;49m\u001b[43mdownload_file\u001b[49m\u001b[43m(\u001b[49m\u001b[38;5;124;43m'\u001b[39;49m\u001b[38;5;124;43mhello.txt\u001b[39;49m\u001b[38;5;124;43m'\u001b[39;49m\u001b[43m,\u001b[49m\u001b[43m \u001b[49m\u001b[38;5;124;43m'\u001b[39;49m\u001b[38;5;124;43m/tmp/hello.txt\u001b[39;49m\u001b[38;5;124;43m'\u001b[39;49m\u001b[43m)\u001b[49m\n",
      "File \u001b[0;32m~/src/eo-sandbox/.venv/lib/python3.8/site-packages/boto3/s3/inject.py:277\u001b[0m, in \u001b[0;36mbucket_download_file\u001b[0;34m(self, Key, Filename, ExtraArgs, Callback, Config)\u001b[0m\n\u001b[1;32m    243\u001b[0m \u001b[38;5;28;01mdef\u001b[39;00m \u001b[38;5;21mbucket_download_file\u001b[39m(\n\u001b[1;32m    244\u001b[0m     \u001b[38;5;28mself\u001b[39m, Key, Filename, ExtraArgs\u001b[38;5;241m=\u001b[39m\u001b[38;5;28;01mNone\u001b[39;00m, Callback\u001b[38;5;241m=\u001b[39m\u001b[38;5;28;01mNone\u001b[39;00m, Config\u001b[38;5;241m=\u001b[39m\u001b[38;5;28;01mNone\u001b[39;00m\n\u001b[1;32m    245\u001b[0m ):\n\u001b[1;32m    246\u001b[0m     \u001b[38;5;124;03m\"\"\"Download an S3 object to a file.\u001b[39;00m\n\u001b[1;32m    247\u001b[0m \n\u001b[1;32m    248\u001b[0m \u001b[38;5;124;03m    Usage::\u001b[39;00m\n\u001b[0;32m   (...)\u001b[0m\n\u001b[1;32m    275\u001b[0m \u001b[38;5;124;03m        transfer.\u001b[39;00m\n\u001b[1;32m    276\u001b[0m \u001b[38;5;124;03m    \"\"\"\u001b[39;00m\n\u001b[0;32m--> 277\u001b[0m     \u001b[38;5;28;01mreturn\u001b[39;00m \u001b[38;5;28;43mself\u001b[39;49m\u001b[38;5;241;43m.\u001b[39;49m\u001b[43mmeta\u001b[49m\u001b[38;5;241;43m.\u001b[39;49m\u001b[43mclient\u001b[49m\u001b[38;5;241;43m.\u001b[39;49m\u001b[43mdownload_file\u001b[49m\u001b[43m(\u001b[49m\n\u001b[1;32m    278\u001b[0m \u001b[43m        \u001b[49m\u001b[43mBucket\u001b[49m\u001b[38;5;241;43m=\u001b[39;49m\u001b[38;5;28;43mself\u001b[39;49m\u001b[38;5;241;43m.\u001b[39;49m\u001b[43mname\u001b[49m\u001b[43m,\u001b[49m\n\u001b[1;32m    279\u001b[0m \u001b[43m        \u001b[49m\u001b[43mKey\u001b[49m\u001b[38;5;241;43m=\u001b[39;49m\u001b[43mKey\u001b[49m\u001b[43m,\u001b[49m\n\u001b[1;32m    280\u001b[0m \u001b[43m        \u001b[49m\u001b[43mFilename\u001b[49m\u001b[38;5;241;43m=\u001b[39;49m\u001b[43mFilename\u001b[49m\u001b[43m,\u001b[49m\n\u001b[1;32m    281\u001b[0m \u001b[43m        \u001b[49m\u001b[43mExtraArgs\u001b[49m\u001b[38;5;241;43m=\u001b[39;49m\u001b[43mExtraArgs\u001b[49m\u001b[43m,\u001b[49m\n\u001b[1;32m    282\u001b[0m \u001b[43m        \u001b[49m\u001b[43mCallback\u001b[49m\u001b[38;5;241;43m=\u001b[39;49m\u001b[43mCallback\u001b[49m\u001b[43m,\u001b[49m\n\u001b[1;32m    283\u001b[0m \u001b[43m        \u001b[49m\u001b[43mConfig\u001b[49m\u001b[38;5;241;43m=\u001b[39;49m\u001b[43mConfig\u001b[49m\u001b[43m,\u001b[49m\n\u001b[1;32m    284\u001b[0m \u001b[43m    \u001b[49m\u001b[43m)\u001b[49m\n",
      "File \u001b[0;32m~/src/eo-sandbox/.venv/lib/python3.8/site-packages/boto3/s3/inject.py:190\u001b[0m, in \u001b[0;36mdownload_file\u001b[0;34m(self, Bucket, Key, Filename, ExtraArgs, Callback, Config)\u001b[0m\n\u001b[1;32m    155\u001b[0m \u001b[38;5;124;03m\"\"\"Download an S3 object to a file.\u001b[39;00m\n\u001b[1;32m    156\u001b[0m \n\u001b[1;32m    157\u001b[0m \u001b[38;5;124;03mUsage::\u001b[39;00m\n\u001b[0;32m   (...)\u001b[0m\n\u001b[1;32m    187\u001b[0m \u001b[38;5;124;03m    transfer.\u001b[39;00m\n\u001b[1;32m    188\u001b[0m \u001b[38;5;124;03m\"\"\"\u001b[39;00m\n\u001b[1;32m    189\u001b[0m \u001b[38;5;28;01mwith\u001b[39;00m S3Transfer(\u001b[38;5;28mself\u001b[39m, Config) \u001b[38;5;28;01mas\u001b[39;00m transfer:\n\u001b[0;32m--> 190\u001b[0m     \u001b[38;5;28;01mreturn\u001b[39;00m \u001b[43mtransfer\u001b[49m\u001b[38;5;241;43m.\u001b[39;49m\u001b[43mdownload_file\u001b[49m\u001b[43m(\u001b[49m\n\u001b[1;32m    191\u001b[0m \u001b[43m        \u001b[49m\u001b[43mbucket\u001b[49m\u001b[38;5;241;43m=\u001b[39;49m\u001b[43mBucket\u001b[49m\u001b[43m,\u001b[49m\n\u001b[1;32m    192\u001b[0m \u001b[43m        \u001b[49m\u001b[43mkey\u001b[49m\u001b[38;5;241;43m=\u001b[39;49m\u001b[43mKey\u001b[49m\u001b[43m,\u001b[49m\n\u001b[1;32m    193\u001b[0m \u001b[43m        \u001b[49m\u001b[43mfilename\u001b[49m\u001b[38;5;241;43m=\u001b[39;49m\u001b[43mFilename\u001b[49m\u001b[43m,\u001b[49m\n\u001b[1;32m    194\u001b[0m \u001b[43m        \u001b[49m\u001b[43mextra_args\u001b[49m\u001b[38;5;241;43m=\u001b[39;49m\u001b[43mExtraArgs\u001b[49m\u001b[43m,\u001b[49m\n\u001b[1;32m    195\u001b[0m \u001b[43m        \u001b[49m\u001b[43mcallback\u001b[49m\u001b[38;5;241;43m=\u001b[39;49m\u001b[43mCallback\u001b[49m\u001b[43m,\u001b[49m\n\u001b[1;32m    196\u001b[0m \u001b[43m    \u001b[49m\u001b[43m)\u001b[49m\n",
      "File \u001b[0;32m~/src/eo-sandbox/.venv/lib/python3.8/site-packages/boto3/s3/transfer.py:320\u001b[0m, in \u001b[0;36mS3Transfer.download_file\u001b[0;34m(self, bucket, key, filename, extra_args, callback)\u001b[0m\n\u001b[1;32m    316\u001b[0m future \u001b[38;5;241m=\u001b[39m \u001b[38;5;28mself\u001b[39m\u001b[38;5;241m.\u001b[39m_manager\u001b[38;5;241m.\u001b[39mdownload(\n\u001b[1;32m    317\u001b[0m     bucket, key, filename, extra_args, subscribers\n\u001b[1;32m    318\u001b[0m )\n\u001b[1;32m    319\u001b[0m \u001b[38;5;28;01mtry\u001b[39;00m:\n\u001b[0;32m--> 320\u001b[0m     \u001b[43mfuture\u001b[49m\u001b[38;5;241;43m.\u001b[39;49m\u001b[43mresult\u001b[49m\u001b[43m(\u001b[49m\u001b[43m)\u001b[49m\n\u001b[1;32m    321\u001b[0m \u001b[38;5;66;03m# This is for backwards compatibility where when retries are\u001b[39;00m\n\u001b[1;32m    322\u001b[0m \u001b[38;5;66;03m# exceeded we need to throw the same error from boto3 instead of\u001b[39;00m\n\u001b[1;32m    323\u001b[0m \u001b[38;5;66;03m# s3transfer's built in RetriesExceededError as current users are\u001b[39;00m\n\u001b[1;32m    324\u001b[0m \u001b[38;5;66;03m# catching the boto3 one instead of the s3transfer exception to do\u001b[39;00m\n\u001b[1;32m    325\u001b[0m \u001b[38;5;66;03m# their own retries.\u001b[39;00m\n\u001b[1;32m    326\u001b[0m \u001b[38;5;28;01mexcept\u001b[39;00m S3TransferRetriesExceededError \u001b[38;5;28;01mas\u001b[39;00m e:\n",
      "File \u001b[0;32m~/src/eo-sandbox/.venv/lib/python3.8/site-packages/s3transfer/futures.py:103\u001b[0m, in \u001b[0;36mTransferFuture.result\u001b[0;34m(self)\u001b[0m\n\u001b[1;32m     98\u001b[0m \u001b[38;5;28;01mdef\u001b[39;00m \u001b[38;5;21mresult\u001b[39m(\u001b[38;5;28mself\u001b[39m):\n\u001b[1;32m     99\u001b[0m     \u001b[38;5;28;01mtry\u001b[39;00m:\n\u001b[1;32m    100\u001b[0m         \u001b[38;5;66;03m# Usually the result() method blocks until the transfer is done,\u001b[39;00m\n\u001b[1;32m    101\u001b[0m         \u001b[38;5;66;03m# however if a KeyboardInterrupt is raised we want want to exit\u001b[39;00m\n\u001b[1;32m    102\u001b[0m         \u001b[38;5;66;03m# out of this and propagate the exception.\u001b[39;00m\n\u001b[0;32m--> 103\u001b[0m         \u001b[38;5;28;01mreturn\u001b[39;00m \u001b[38;5;28;43mself\u001b[39;49m\u001b[38;5;241;43m.\u001b[39;49m\u001b[43m_coordinator\u001b[49m\u001b[38;5;241;43m.\u001b[39;49m\u001b[43mresult\u001b[49m\u001b[43m(\u001b[49m\u001b[43m)\u001b[49m\n\u001b[1;32m    104\u001b[0m     \u001b[38;5;28;01mexcept\u001b[39;00m \u001b[38;5;167;01mKeyboardInterrupt\u001b[39;00m \u001b[38;5;28;01mas\u001b[39;00m e:\n\u001b[1;32m    105\u001b[0m         \u001b[38;5;28mself\u001b[39m\u001b[38;5;241m.\u001b[39mcancel()\n",
      "File \u001b[0;32m~/src/eo-sandbox/.venv/lib/python3.8/site-packages/s3transfer/futures.py:266\u001b[0m, in \u001b[0;36mTransferCoordinator.result\u001b[0;34m(self)\u001b[0m\n\u001b[1;32m    263\u001b[0m \u001b[38;5;66;03m# Once done waiting, raise an exception if present or return the\u001b[39;00m\n\u001b[1;32m    264\u001b[0m \u001b[38;5;66;03m# final result.\u001b[39;00m\n\u001b[1;32m    265\u001b[0m \u001b[38;5;28;01mif\u001b[39;00m \u001b[38;5;28mself\u001b[39m\u001b[38;5;241m.\u001b[39m_exception:\n\u001b[0;32m--> 266\u001b[0m     \u001b[38;5;28;01mraise\u001b[39;00m \u001b[38;5;28mself\u001b[39m\u001b[38;5;241m.\u001b[39m_exception\n\u001b[1;32m    267\u001b[0m \u001b[38;5;28;01mreturn\u001b[39;00m \u001b[38;5;28mself\u001b[39m\u001b[38;5;241m.\u001b[39m_result\n",
      "File \u001b[0;32m~/src/eo-sandbox/.venv/lib/python3.8/site-packages/s3transfer/tasks.py:269\u001b[0m, in \u001b[0;36mSubmissionTask._main\u001b[0;34m(self, transfer_future, **kwargs)\u001b[0m\n\u001b[1;32m    265\u001b[0m     \u001b[38;5;28mself\u001b[39m\u001b[38;5;241m.\u001b[39m_transfer_coordinator\u001b[38;5;241m.\u001b[39mset_status_to_running()\n\u001b[1;32m    267\u001b[0m     \u001b[38;5;66;03m# Call the submit method to start submitting tasks to execute the\u001b[39;00m\n\u001b[1;32m    268\u001b[0m     \u001b[38;5;66;03m# transfer.\u001b[39;00m\n\u001b[0;32m--> 269\u001b[0m     \u001b[38;5;28;43mself\u001b[39;49m\u001b[38;5;241;43m.\u001b[39;49m\u001b[43m_submit\u001b[49m\u001b[43m(\u001b[49m\u001b[43mtransfer_future\u001b[49m\u001b[38;5;241;43m=\u001b[39;49m\u001b[43mtransfer_future\u001b[49m\u001b[43m,\u001b[49m\u001b[43m \u001b[49m\u001b[38;5;241;43m*\u001b[39;49m\u001b[38;5;241;43m*\u001b[39;49m\u001b[43mkwargs\u001b[49m\u001b[43m)\u001b[49m\n\u001b[1;32m    270\u001b[0m \u001b[38;5;28;01mexcept\u001b[39;00m \u001b[38;5;167;01mBaseException\u001b[39;00m \u001b[38;5;28;01mas\u001b[39;00m e:\n\u001b[1;32m    271\u001b[0m     \u001b[38;5;66;03m# If there was an exception raised during the submission of task\u001b[39;00m\n\u001b[1;32m    272\u001b[0m     \u001b[38;5;66;03m# there is a chance that the final task that signals if a transfer\u001b[39;00m\n\u001b[0;32m   (...)\u001b[0m\n\u001b[1;32m    281\u001b[0m \n\u001b[1;32m    282\u001b[0m     \u001b[38;5;66;03m# Set the exception, that caused the process to fail.\u001b[39;00m\n\u001b[1;32m    283\u001b[0m     \u001b[38;5;28mself\u001b[39m\u001b[38;5;241m.\u001b[39m_log_and_set_exception(e)\n",
      "File \u001b[0;32m~/src/eo-sandbox/.venv/lib/python3.8/site-packages/s3transfer/download.py:354\u001b[0m, in \u001b[0;36mDownloadSubmissionTask._submit\u001b[0;34m(self, client, config, osutil, request_executor, io_executor, transfer_future, bandwidth_limiter)\u001b[0m\n\u001b[1;32m    325\u001b[0m \u001b[38;5;124;03m\"\"\"\u001b[39;00m\n\u001b[1;32m    326\u001b[0m \u001b[38;5;124;03m:param client: The client associated with the transfer manager\u001b[39;00m\n\u001b[1;32m    327\u001b[0m \n\u001b[0;32m   (...)\u001b[0m\n\u001b[1;32m    349\u001b[0m \u001b[38;5;124;03m    downloading streams\u001b[39;00m\n\u001b[1;32m    350\u001b[0m \u001b[38;5;124;03m\"\"\"\u001b[39;00m\n\u001b[1;32m    351\u001b[0m \u001b[38;5;28;01mif\u001b[39;00m transfer_future\u001b[38;5;241m.\u001b[39mmeta\u001b[38;5;241m.\u001b[39msize \u001b[38;5;129;01mis\u001b[39;00m \u001b[38;5;28;01mNone\u001b[39;00m:\n\u001b[1;32m    352\u001b[0m     \u001b[38;5;66;03m# If a size was not provided figure out the size for the\u001b[39;00m\n\u001b[1;32m    353\u001b[0m     \u001b[38;5;66;03m# user.\u001b[39;00m\n\u001b[0;32m--> 354\u001b[0m     response \u001b[38;5;241m=\u001b[39m \u001b[43mclient\u001b[49m\u001b[38;5;241;43m.\u001b[39;49m\u001b[43mhead_object\u001b[49m\u001b[43m(\u001b[49m\n\u001b[1;32m    355\u001b[0m \u001b[43m        \u001b[49m\u001b[43mBucket\u001b[49m\u001b[38;5;241;43m=\u001b[39;49m\u001b[43mtransfer_future\u001b[49m\u001b[38;5;241;43m.\u001b[39;49m\u001b[43mmeta\u001b[49m\u001b[38;5;241;43m.\u001b[39;49m\u001b[43mcall_args\u001b[49m\u001b[38;5;241;43m.\u001b[39;49m\u001b[43mbucket\u001b[49m\u001b[43m,\u001b[49m\n\u001b[1;32m    356\u001b[0m \u001b[43m        \u001b[49m\u001b[43mKey\u001b[49m\u001b[38;5;241;43m=\u001b[39;49m\u001b[43mtransfer_future\u001b[49m\u001b[38;5;241;43m.\u001b[39;49m\u001b[43mmeta\u001b[49m\u001b[38;5;241;43m.\u001b[39;49m\u001b[43mcall_args\u001b[49m\u001b[38;5;241;43m.\u001b[39;49m\u001b[43mkey\u001b[49m\u001b[43m,\u001b[49m\n\u001b[1;32m    357\u001b[0m \u001b[43m        \u001b[49m\u001b[38;5;241;43m*\u001b[39;49m\u001b[38;5;241;43m*\u001b[39;49m\u001b[43mtransfer_future\u001b[49m\u001b[38;5;241;43m.\u001b[39;49m\u001b[43mmeta\u001b[49m\u001b[38;5;241;43m.\u001b[39;49m\u001b[43mcall_args\u001b[49m\u001b[38;5;241;43m.\u001b[39;49m\u001b[43mextra_args\u001b[49m\u001b[43m,\u001b[49m\n\u001b[1;32m    358\u001b[0m \u001b[43m    \u001b[49m\u001b[43m)\u001b[49m\n\u001b[1;32m    359\u001b[0m     transfer_future\u001b[38;5;241m.\u001b[39mmeta\u001b[38;5;241m.\u001b[39mprovide_transfer_size(\n\u001b[1;32m    360\u001b[0m         response[\u001b[38;5;124m'\u001b[39m\u001b[38;5;124mContentLength\u001b[39m\u001b[38;5;124m'\u001b[39m]\n\u001b[1;32m    361\u001b[0m     )\n\u001b[1;32m    363\u001b[0m download_output_manager \u001b[38;5;241m=\u001b[39m \u001b[38;5;28mself\u001b[39m\u001b[38;5;241m.\u001b[39m_get_download_output_manager_cls(\n\u001b[1;32m    364\u001b[0m     transfer_future, osutil\n\u001b[1;32m    365\u001b[0m )(osutil, \u001b[38;5;28mself\u001b[39m\u001b[38;5;241m.\u001b[39m_transfer_coordinator, io_executor)\n",
      "File \u001b[0;32m~/src/eo-sandbox/.venv/lib/python3.8/site-packages/botocore/client.py:508\u001b[0m, in \u001b[0;36mClientCreator._create_api_method.<locals>._api_call\u001b[0;34m(self, *args, **kwargs)\u001b[0m\n\u001b[1;32m    504\u001b[0m     \u001b[38;5;28;01mraise\u001b[39;00m \u001b[38;5;167;01mTypeError\u001b[39;00m(\n\u001b[1;32m    505\u001b[0m         \u001b[38;5;124mf\u001b[39m\u001b[38;5;124m\"\u001b[39m\u001b[38;5;132;01m{\u001b[39;00mpy_operation_name\u001b[38;5;132;01m}\u001b[39;00m\u001b[38;5;124m() only accepts keyword arguments.\u001b[39m\u001b[38;5;124m\"\u001b[39m\n\u001b[1;32m    506\u001b[0m     )\n\u001b[1;32m    507\u001b[0m \u001b[38;5;66;03m# The \"self\" in this scope is referring to the BaseClient.\u001b[39;00m\n\u001b[0;32m--> 508\u001b[0m \u001b[38;5;28;01mreturn\u001b[39;00m \u001b[38;5;28;43mself\u001b[39;49m\u001b[38;5;241;43m.\u001b[39;49m\u001b[43m_make_api_call\u001b[49m\u001b[43m(\u001b[49m\u001b[43moperation_name\u001b[49m\u001b[43m,\u001b[49m\u001b[43m \u001b[49m\u001b[43mkwargs\u001b[49m\u001b[43m)\u001b[49m\n",
      "File \u001b[0;32m~/src/eo-sandbox/.venv/lib/python3.8/site-packages/botocore/client.py:915\u001b[0m, in \u001b[0;36mBaseClient._make_api_call\u001b[0;34m(self, operation_name, api_params)\u001b[0m\n\u001b[1;32m    913\u001b[0m     error_code \u001b[38;5;241m=\u001b[39m parsed_response\u001b[38;5;241m.\u001b[39mget(\u001b[38;5;124m\"\u001b[39m\u001b[38;5;124mError\u001b[39m\u001b[38;5;124m\"\u001b[39m, {})\u001b[38;5;241m.\u001b[39mget(\u001b[38;5;124m\"\u001b[39m\u001b[38;5;124mCode\u001b[39m\u001b[38;5;124m\"\u001b[39m)\n\u001b[1;32m    914\u001b[0m     error_class \u001b[38;5;241m=\u001b[39m \u001b[38;5;28mself\u001b[39m\u001b[38;5;241m.\u001b[39mexceptions\u001b[38;5;241m.\u001b[39mfrom_code(error_code)\n\u001b[0;32m--> 915\u001b[0m     \u001b[38;5;28;01mraise\u001b[39;00m error_class(parsed_response, operation_name)\n\u001b[1;32m    916\u001b[0m \u001b[38;5;28;01melse\u001b[39;00m:\n\u001b[1;32m    917\u001b[0m     \u001b[38;5;28;01mreturn\u001b[39;00m parsed_response\n",
      "\u001b[0;31mClientError\u001b[0m: An error occurred (403) when calling the HeadObject operation: Forbidden"
     ]
    }
   ],
   "source": [
    "s3.Bucket(\"sentinel-s2-l2a\").download_file(\n",
    "    \"index.html\",\n",
    "    \"./index.html\",\n",
    "    \n",
    ")"
   ]
  },
  {
   "cell_type": "code",
   "execution_count": 33,
   "id": "6fc89a0c-8674-4c0a-bc8c-c48c44c11a52",
   "metadata": {},
   "outputs": [],
   "source": []
  },
  {
   "cell_type": "code",
   "execution_count": null,
   "id": "5d33671e-64df-47fb-8e49-1897d4aab6a7",
   "metadata": {},
   "outputs": [],
   "source": []
  }
 ],
 "metadata": {
  "kernelspec": {
   "display_name": "Python 3 (ipykernel)",
   "language": "python",
   "name": "python3"
  },
  "language_info": {
   "codemirror_mode": {
    "name": "ipython",
    "version": 3
   },
   "file_extension": ".py",
   "mimetype": "text/x-python",
   "name": "python",
   "nbconvert_exporter": "python",
   "pygments_lexer": "ipython3",
   "version": "3.8.10"
  }
 },
 "nbformat": 4,
 "nbformat_minor": 5
}
